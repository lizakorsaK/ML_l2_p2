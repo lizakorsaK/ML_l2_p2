{
 "cells": [
  {
   "cell_type": "markdown",
   "metadata": {},
   "source": [
    "Задание 2  \n",
    "Постройте модель предсказания ядовитости или съедобности гриба (атрибут class) по остальным атрибутам.  \n",
    "а) Определите атрибут, по которому проще всего предсказать целевую переменную. Попробуйте построить модель без этого атрибута.  \n",
    "б) Отранжируйте атрибуты по их предсказательной силе (если пытаться предсказать съедобность гриба исходя только из этого атрибута)"
   ]
  },
  {
   "cell_type": "code",
   "execution_count": 1,
   "metadata": {},
   "outputs": [],
   "source": [
    "import pandas as pd\n",
    "import numpy as np\n",
    "from sklearn.model_selection import train_test_split\n",
    "from sklearn import linear_model, metrics, tree\n",
    "\n",
    "np.random.seed(42)"
   ]
  },
  {
   "cell_type": "code",
   "execution_count": 2,
   "metadata": {},
   "outputs": [
    {
     "data": {
      "text/html": [
       "<div>\n",
       "<style scoped>\n",
       "    .dataframe tbody tr th:only-of-type {\n",
       "        vertical-align: middle;\n",
       "    }\n",
       "\n",
       "    .dataframe tbody tr th {\n",
       "        vertical-align: top;\n",
       "    }\n",
       "\n",
       "    .dataframe thead th {\n",
       "        text-align: right;\n",
       "    }\n",
       "</style>\n",
       "<table border=\"1\" class=\"dataframe\">\n",
       "  <thead>\n",
       "    <tr style=\"text-align: right;\">\n",
       "      <th></th>\n",
       "      <th>class</th>\n",
       "      <th>cap-shape</th>\n",
       "      <th>cap-surface</th>\n",
       "      <th>cap-color</th>\n",
       "      <th>bruises</th>\n",
       "      <th>odor</th>\n",
       "      <th>gill-attachment</th>\n",
       "      <th>gill-spacing</th>\n",
       "      <th>gill-size</th>\n",
       "      <th>gill-color</th>\n",
       "      <th>...</th>\n",
       "      <th>stalk-surface-below-ring</th>\n",
       "      <th>stalk-color-above-ring</th>\n",
       "      <th>stalk-color-below-ring</th>\n",
       "      <th>veil-type</th>\n",
       "      <th>veil-color</th>\n",
       "      <th>ring-number</th>\n",
       "      <th>ring-type</th>\n",
       "      <th>spore-print-color</th>\n",
       "      <th>population</th>\n",
       "      <th>habitat</th>\n",
       "    </tr>\n",
       "  </thead>\n",
       "  <tbody>\n",
       "    <tr>\n",
       "      <th>0</th>\n",
       "      <td>p</td>\n",
       "      <td>x</td>\n",
       "      <td>s</td>\n",
       "      <td>n</td>\n",
       "      <td>t</td>\n",
       "      <td>p</td>\n",
       "      <td>f</td>\n",
       "      <td>c</td>\n",
       "      <td>n</td>\n",
       "      <td>k</td>\n",
       "      <td>...</td>\n",
       "      <td>s</td>\n",
       "      <td>w</td>\n",
       "      <td>w</td>\n",
       "      <td>p</td>\n",
       "      <td>w</td>\n",
       "      <td>o</td>\n",
       "      <td>p</td>\n",
       "      <td>k</td>\n",
       "      <td>s</td>\n",
       "      <td>u</td>\n",
       "    </tr>\n",
       "    <tr>\n",
       "      <th>1</th>\n",
       "      <td>e</td>\n",
       "      <td>x</td>\n",
       "      <td>s</td>\n",
       "      <td>y</td>\n",
       "      <td>t</td>\n",
       "      <td>a</td>\n",
       "      <td>f</td>\n",
       "      <td>c</td>\n",
       "      <td>b</td>\n",
       "      <td>k</td>\n",
       "      <td>...</td>\n",
       "      <td>s</td>\n",
       "      <td>w</td>\n",
       "      <td>w</td>\n",
       "      <td>p</td>\n",
       "      <td>w</td>\n",
       "      <td>o</td>\n",
       "      <td>p</td>\n",
       "      <td>n</td>\n",
       "      <td>n</td>\n",
       "      <td>g</td>\n",
       "    </tr>\n",
       "    <tr>\n",
       "      <th>2</th>\n",
       "      <td>e</td>\n",
       "      <td>b</td>\n",
       "      <td>s</td>\n",
       "      <td>w</td>\n",
       "      <td>t</td>\n",
       "      <td>l</td>\n",
       "      <td>f</td>\n",
       "      <td>c</td>\n",
       "      <td>b</td>\n",
       "      <td>n</td>\n",
       "      <td>...</td>\n",
       "      <td>s</td>\n",
       "      <td>w</td>\n",
       "      <td>w</td>\n",
       "      <td>p</td>\n",
       "      <td>w</td>\n",
       "      <td>o</td>\n",
       "      <td>p</td>\n",
       "      <td>n</td>\n",
       "      <td>n</td>\n",
       "      <td>m</td>\n",
       "    </tr>\n",
       "    <tr>\n",
       "      <th>3</th>\n",
       "      <td>p</td>\n",
       "      <td>x</td>\n",
       "      <td>y</td>\n",
       "      <td>w</td>\n",
       "      <td>t</td>\n",
       "      <td>p</td>\n",
       "      <td>f</td>\n",
       "      <td>c</td>\n",
       "      <td>n</td>\n",
       "      <td>n</td>\n",
       "      <td>...</td>\n",
       "      <td>s</td>\n",
       "      <td>w</td>\n",
       "      <td>w</td>\n",
       "      <td>p</td>\n",
       "      <td>w</td>\n",
       "      <td>o</td>\n",
       "      <td>p</td>\n",
       "      <td>k</td>\n",
       "      <td>s</td>\n",
       "      <td>u</td>\n",
       "    </tr>\n",
       "    <tr>\n",
       "      <th>4</th>\n",
       "      <td>e</td>\n",
       "      <td>x</td>\n",
       "      <td>s</td>\n",
       "      <td>g</td>\n",
       "      <td>f</td>\n",
       "      <td>n</td>\n",
       "      <td>f</td>\n",
       "      <td>w</td>\n",
       "      <td>b</td>\n",
       "      <td>k</td>\n",
       "      <td>...</td>\n",
       "      <td>s</td>\n",
       "      <td>w</td>\n",
       "      <td>w</td>\n",
       "      <td>p</td>\n",
       "      <td>w</td>\n",
       "      <td>o</td>\n",
       "      <td>e</td>\n",
       "      <td>n</td>\n",
       "      <td>a</td>\n",
       "      <td>g</td>\n",
       "    </tr>\n",
       "  </tbody>\n",
       "</table>\n",
       "<p>5 rows × 23 columns</p>\n",
       "</div>"
      ],
      "text/plain": [
       "  class cap-shape cap-surface cap-color bruises odor gill-attachment  \\\n",
       "0     p         x           s         n       t    p               f   \n",
       "1     e         x           s         y       t    a               f   \n",
       "2     e         b           s         w       t    l               f   \n",
       "3     p         x           y         w       t    p               f   \n",
       "4     e         x           s         g       f    n               f   \n",
       "\n",
       "  gill-spacing gill-size gill-color  ... stalk-surface-below-ring  \\\n",
       "0            c         n          k  ...                        s   \n",
       "1            c         b          k  ...                        s   \n",
       "2            c         b          n  ...                        s   \n",
       "3            c         n          n  ...                        s   \n",
       "4            w         b          k  ...                        s   \n",
       "\n",
       "  stalk-color-above-ring stalk-color-below-ring veil-type veil-color  \\\n",
       "0                      w                      w         p          w   \n",
       "1                      w                      w         p          w   \n",
       "2                      w                      w         p          w   \n",
       "3                      w                      w         p          w   \n",
       "4                      w                      w         p          w   \n",
       "\n",
       "  ring-number ring-type spore-print-color population habitat  \n",
       "0           o         p                 k          s       u  \n",
       "1           o         p                 n          n       g  \n",
       "2           o         p                 n          n       m  \n",
       "3           o         p                 k          s       u  \n",
       "4           o         e                 n          a       g  \n",
       "\n",
       "[5 rows x 23 columns]"
      ]
     },
     "execution_count": 2,
     "metadata": {},
     "output_type": "execute_result"
    }
   ],
   "source": [
    "df = pd.read_csv('C:/mushrooms.csv')\n",
    "df.head(5)"
   ]
  },
  {
   "cell_type": "code",
   "execution_count": 3,
   "metadata": {},
   "outputs": [
    {
     "data": {
      "text/plain": [
       "(8124, 23)"
      ]
     },
     "execution_count": 3,
     "metadata": {},
     "output_type": "execute_result"
    }
   ],
   "source": [
    "df.shape"
   ]
  },
  {
   "cell_type": "code",
   "execution_count": 4,
   "metadata": {},
   "outputs": [
    {
     "data": {
      "text/plain": [
       "class                       0\n",
       "cap-shape                   0\n",
       "cap-surface                 0\n",
       "cap-color                   0\n",
       "bruises                     0\n",
       "odor                        0\n",
       "gill-attachment             0\n",
       "gill-spacing                0\n",
       "gill-size                   0\n",
       "gill-color                  0\n",
       "stalk-shape                 0\n",
       "stalk-root                  0\n",
       "stalk-surface-above-ring    0\n",
       "stalk-surface-below-ring    0\n",
       "stalk-color-above-ring      0\n",
       "stalk-color-below-ring      0\n",
       "veil-type                   0\n",
       "veil-color                  0\n",
       "ring-number                 0\n",
       "ring-type                   0\n",
       "spore-print-color           0\n",
       "population                  0\n",
       "habitat                     0\n",
       "dtype: int64"
      ]
     },
     "execution_count": 4,
     "metadata": {},
     "output_type": "execute_result"
    }
   ],
   "source": [
    "df.isnull().sum()"
   ]
  },
  {
   "cell_type": "markdown",
   "metadata": {},
   "source": [
    "После того, как мы получили размер датафрейма (чтобы понимать, что к чему), и проверили на целостность данных (все поля заполнены), выведем общую статистику:"
   ]
  },
  {
   "cell_type": "code",
   "execution_count": 5,
   "metadata": {},
   "outputs": [
    {
     "data": {
      "text/html": [
       "<div>\n",
       "<style scoped>\n",
       "    .dataframe tbody tr th:only-of-type {\n",
       "        vertical-align: middle;\n",
       "    }\n",
       "\n",
       "    .dataframe tbody tr th {\n",
       "        vertical-align: top;\n",
       "    }\n",
       "\n",
       "    .dataframe thead th {\n",
       "        text-align: right;\n",
       "    }\n",
       "</style>\n",
       "<table border=\"1\" class=\"dataframe\">\n",
       "  <thead>\n",
       "    <tr style=\"text-align: right;\">\n",
       "      <th></th>\n",
       "      <th>class</th>\n",
       "      <th>cap-shape</th>\n",
       "      <th>cap-surface</th>\n",
       "      <th>cap-color</th>\n",
       "      <th>bruises</th>\n",
       "      <th>odor</th>\n",
       "      <th>gill-attachment</th>\n",
       "      <th>gill-spacing</th>\n",
       "      <th>gill-size</th>\n",
       "      <th>gill-color</th>\n",
       "      <th>...</th>\n",
       "      <th>stalk-surface-below-ring</th>\n",
       "      <th>stalk-color-above-ring</th>\n",
       "      <th>stalk-color-below-ring</th>\n",
       "      <th>veil-type</th>\n",
       "      <th>veil-color</th>\n",
       "      <th>ring-number</th>\n",
       "      <th>ring-type</th>\n",
       "      <th>spore-print-color</th>\n",
       "      <th>population</th>\n",
       "      <th>habitat</th>\n",
       "    </tr>\n",
       "  </thead>\n",
       "  <tbody>\n",
       "    <tr>\n",
       "      <th>count</th>\n",
       "      <td>8124</td>\n",
       "      <td>8124</td>\n",
       "      <td>8124</td>\n",
       "      <td>8124</td>\n",
       "      <td>8124</td>\n",
       "      <td>8124</td>\n",
       "      <td>8124</td>\n",
       "      <td>8124</td>\n",
       "      <td>8124</td>\n",
       "      <td>8124</td>\n",
       "      <td>...</td>\n",
       "      <td>8124</td>\n",
       "      <td>8124</td>\n",
       "      <td>8124</td>\n",
       "      <td>8124</td>\n",
       "      <td>8124</td>\n",
       "      <td>8124</td>\n",
       "      <td>8124</td>\n",
       "      <td>8124</td>\n",
       "      <td>8124</td>\n",
       "      <td>8124</td>\n",
       "    </tr>\n",
       "    <tr>\n",
       "      <th>unique</th>\n",
       "      <td>2</td>\n",
       "      <td>6</td>\n",
       "      <td>4</td>\n",
       "      <td>10</td>\n",
       "      <td>2</td>\n",
       "      <td>9</td>\n",
       "      <td>2</td>\n",
       "      <td>2</td>\n",
       "      <td>2</td>\n",
       "      <td>12</td>\n",
       "      <td>...</td>\n",
       "      <td>4</td>\n",
       "      <td>9</td>\n",
       "      <td>9</td>\n",
       "      <td>1</td>\n",
       "      <td>4</td>\n",
       "      <td>3</td>\n",
       "      <td>5</td>\n",
       "      <td>9</td>\n",
       "      <td>6</td>\n",
       "      <td>7</td>\n",
       "    </tr>\n",
       "    <tr>\n",
       "      <th>top</th>\n",
       "      <td>e</td>\n",
       "      <td>x</td>\n",
       "      <td>y</td>\n",
       "      <td>n</td>\n",
       "      <td>f</td>\n",
       "      <td>n</td>\n",
       "      <td>f</td>\n",
       "      <td>c</td>\n",
       "      <td>b</td>\n",
       "      <td>b</td>\n",
       "      <td>...</td>\n",
       "      <td>s</td>\n",
       "      <td>w</td>\n",
       "      <td>w</td>\n",
       "      <td>p</td>\n",
       "      <td>w</td>\n",
       "      <td>o</td>\n",
       "      <td>p</td>\n",
       "      <td>w</td>\n",
       "      <td>v</td>\n",
       "      <td>d</td>\n",
       "    </tr>\n",
       "    <tr>\n",
       "      <th>freq</th>\n",
       "      <td>4208</td>\n",
       "      <td>3656</td>\n",
       "      <td>3244</td>\n",
       "      <td>2284</td>\n",
       "      <td>4748</td>\n",
       "      <td>3528</td>\n",
       "      <td>7914</td>\n",
       "      <td>6812</td>\n",
       "      <td>5612</td>\n",
       "      <td>1728</td>\n",
       "      <td>...</td>\n",
       "      <td>4936</td>\n",
       "      <td>4464</td>\n",
       "      <td>4384</td>\n",
       "      <td>8124</td>\n",
       "      <td>7924</td>\n",
       "      <td>7488</td>\n",
       "      <td>3968</td>\n",
       "      <td>2388</td>\n",
       "      <td>4040</td>\n",
       "      <td>3148</td>\n",
       "    </tr>\n",
       "  </tbody>\n",
       "</table>\n",
       "<p>4 rows × 23 columns</p>\n",
       "</div>"
      ],
      "text/plain": [
       "       class cap-shape cap-surface cap-color bruises  odor gill-attachment  \\\n",
       "count   8124      8124        8124      8124    8124  8124            8124   \n",
       "unique     2         6           4        10       2     9               2   \n",
       "top        e         x           y         n       f     n               f   \n",
       "freq    4208      3656        3244      2284    4748  3528            7914   \n",
       "\n",
       "       gill-spacing gill-size gill-color  ... stalk-surface-below-ring  \\\n",
       "count          8124      8124       8124  ...                     8124   \n",
       "unique            2         2         12  ...                        4   \n",
       "top               c         b          b  ...                        s   \n",
       "freq           6812      5612       1728  ...                     4936   \n",
       "\n",
       "       stalk-color-above-ring stalk-color-below-ring veil-type veil-color  \\\n",
       "count                    8124                   8124      8124       8124   \n",
       "unique                      9                      9         1          4   \n",
       "top                         w                      w         p          w   \n",
       "freq                     4464                   4384      8124       7924   \n",
       "\n",
       "       ring-number ring-type spore-print-color population habitat  \n",
       "count         8124      8124              8124       8124    8124  \n",
       "unique           3         5                 9          6       7  \n",
       "top              o         p                 w          v       d  \n",
       "freq          7488      3968              2388       4040    3148  \n",
       "\n",
       "[4 rows x 23 columns]"
      ]
     },
     "execution_count": 5,
     "metadata": {},
     "output_type": "execute_result"
    }
   ],
   "source": [
    "df.describe()"
   ]
  },
  {
   "cell_type": "markdown",
   "metadata": {},
   "source": [
    "Из этого будет интересно посмотреть на freq, т.е. частоту наиболее встречающегося признака"
   ]
  },
  {
   "cell_type": "code",
   "execution_count": 6,
   "metadata": {},
   "outputs": [
    {
     "data": {
      "text/plain": [
       "gill-color                  1728\n",
       "cap-color                   2284\n",
       "spore-print-color           2388\n",
       "habitat                     3148\n",
       "cap-surface                 3244\n",
       "odor                        3528\n",
       "cap-shape                   3656\n",
       "stalk-root                  3776\n",
       "ring-type                   3968\n",
       "population                  4040\n",
       "class                       4208\n",
       "stalk-color-below-ring      4384\n",
       "stalk-color-above-ring      4464\n",
       "stalk-shape                 4608\n",
       "bruises                     4748\n",
       "stalk-surface-below-ring    4936\n",
       "stalk-surface-above-ring    5176\n",
       "gill-size                   5612\n",
       "gill-spacing                6812\n",
       "ring-number                 7488\n",
       "gill-attachment             7914\n",
       "veil-color                  7924\n",
       "veil-type                   8124\n",
       "Name: freq, dtype: object"
      ]
     },
     "execution_count": 6,
     "metadata": {},
     "output_type": "execute_result"
    }
   ],
   "source": [
    "freq = df.describe().iloc[3]\n",
    "freq.sort_values()"
   ]
  },
  {
   "cell_type": "markdown",
   "metadata": {},
   "source": [
    "В принципе, можно спокойно избавиться от признака veil-type, т.к. он не несёт в себе никакой смысловой нагрузки и практической значимости:"
   ]
  },
  {
   "cell_type": "code",
   "execution_count": 7,
   "metadata": {},
   "outputs": [
    {
     "data": {
      "text/plain": [
       "array(['p'], dtype=object)"
      ]
     },
     "execution_count": 7,
     "metadata": {},
     "output_type": "execute_result"
    }
   ],
   "source": [
    "df['veil-type'].unique()"
   ]
  },
  {
   "cell_type": "markdown",
   "metadata": {},
   "source": [
    "Заменим текстовые метки искомого класса на бинарные:"
   ]
  },
  {
   "cell_type": "code",
   "execution_count": 8,
   "metadata": {},
   "outputs": [],
   "source": [
    "y_values, y_names = pd.factorize(df['class'])"
   ]
  },
  {
   "cell_type": "markdown",
   "metadata": {},
   "source": [
    "После чего удалим \"class\" из датафрейма и создадим много-много столбцов (всех признаков всех классов)"
   ]
  },
  {
   "cell_type": "code",
   "execution_count": 9,
   "metadata": {},
   "outputs": [],
   "source": [
    "df = df.drop(columns=['class'])"
   ]
  },
  {
   "cell_type": "code",
   "execution_count": 10,
   "metadata": {},
   "outputs": [
    {
     "data": {
      "text/html": [
       "<div>\n",
       "<style scoped>\n",
       "    .dataframe tbody tr th:only-of-type {\n",
       "        vertical-align: middle;\n",
       "    }\n",
       "\n",
       "    .dataframe tbody tr th {\n",
       "        vertical-align: top;\n",
       "    }\n",
       "\n",
       "    .dataframe thead th {\n",
       "        text-align: right;\n",
       "    }\n",
       "</style>\n",
       "<table border=\"1\" class=\"dataframe\">\n",
       "  <thead>\n",
       "    <tr style=\"text-align: right;\">\n",
       "      <th></th>\n",
       "      <th>cap-shape_b</th>\n",
       "      <th>cap-shape_c</th>\n",
       "      <th>cap-shape_f</th>\n",
       "      <th>cap-shape_k</th>\n",
       "      <th>cap-shape_s</th>\n",
       "      <th>cap-shape_x</th>\n",
       "      <th>cap-surface_f</th>\n",
       "      <th>cap-surface_g</th>\n",
       "      <th>cap-surface_s</th>\n",
       "      <th>cap-surface_y</th>\n",
       "      <th>...</th>\n",
       "      <th>population_s</th>\n",
       "      <th>population_v</th>\n",
       "      <th>population_y</th>\n",
       "      <th>habitat_d</th>\n",
       "      <th>habitat_g</th>\n",
       "      <th>habitat_l</th>\n",
       "      <th>habitat_m</th>\n",
       "      <th>habitat_p</th>\n",
       "      <th>habitat_u</th>\n",
       "      <th>habitat_w</th>\n",
       "    </tr>\n",
       "  </thead>\n",
       "  <tbody>\n",
       "    <tr>\n",
       "      <th>0</th>\n",
       "      <td>0</td>\n",
       "      <td>0</td>\n",
       "      <td>0</td>\n",
       "      <td>0</td>\n",
       "      <td>0</td>\n",
       "      <td>1</td>\n",
       "      <td>0</td>\n",
       "      <td>0</td>\n",
       "      <td>1</td>\n",
       "      <td>0</td>\n",
       "      <td>...</td>\n",
       "      <td>1</td>\n",
       "      <td>0</td>\n",
       "      <td>0</td>\n",
       "      <td>0</td>\n",
       "      <td>0</td>\n",
       "      <td>0</td>\n",
       "      <td>0</td>\n",
       "      <td>0</td>\n",
       "      <td>1</td>\n",
       "      <td>0</td>\n",
       "    </tr>\n",
       "    <tr>\n",
       "      <th>1</th>\n",
       "      <td>0</td>\n",
       "      <td>0</td>\n",
       "      <td>0</td>\n",
       "      <td>0</td>\n",
       "      <td>0</td>\n",
       "      <td>1</td>\n",
       "      <td>0</td>\n",
       "      <td>0</td>\n",
       "      <td>1</td>\n",
       "      <td>0</td>\n",
       "      <td>...</td>\n",
       "      <td>0</td>\n",
       "      <td>0</td>\n",
       "      <td>0</td>\n",
       "      <td>0</td>\n",
       "      <td>1</td>\n",
       "      <td>0</td>\n",
       "      <td>0</td>\n",
       "      <td>0</td>\n",
       "      <td>0</td>\n",
       "      <td>0</td>\n",
       "    </tr>\n",
       "    <tr>\n",
       "      <th>2</th>\n",
       "      <td>1</td>\n",
       "      <td>0</td>\n",
       "      <td>0</td>\n",
       "      <td>0</td>\n",
       "      <td>0</td>\n",
       "      <td>0</td>\n",
       "      <td>0</td>\n",
       "      <td>0</td>\n",
       "      <td>1</td>\n",
       "      <td>0</td>\n",
       "      <td>...</td>\n",
       "      <td>0</td>\n",
       "      <td>0</td>\n",
       "      <td>0</td>\n",
       "      <td>0</td>\n",
       "      <td>0</td>\n",
       "      <td>0</td>\n",
       "      <td>1</td>\n",
       "      <td>0</td>\n",
       "      <td>0</td>\n",
       "      <td>0</td>\n",
       "    </tr>\n",
       "    <tr>\n",
       "      <th>3</th>\n",
       "      <td>0</td>\n",
       "      <td>0</td>\n",
       "      <td>0</td>\n",
       "      <td>0</td>\n",
       "      <td>0</td>\n",
       "      <td>1</td>\n",
       "      <td>0</td>\n",
       "      <td>0</td>\n",
       "      <td>0</td>\n",
       "      <td>1</td>\n",
       "      <td>...</td>\n",
       "      <td>1</td>\n",
       "      <td>0</td>\n",
       "      <td>0</td>\n",
       "      <td>0</td>\n",
       "      <td>0</td>\n",
       "      <td>0</td>\n",
       "      <td>0</td>\n",
       "      <td>0</td>\n",
       "      <td>1</td>\n",
       "      <td>0</td>\n",
       "    </tr>\n",
       "    <tr>\n",
       "      <th>4</th>\n",
       "      <td>0</td>\n",
       "      <td>0</td>\n",
       "      <td>0</td>\n",
       "      <td>0</td>\n",
       "      <td>0</td>\n",
       "      <td>1</td>\n",
       "      <td>0</td>\n",
       "      <td>0</td>\n",
       "      <td>1</td>\n",
       "      <td>0</td>\n",
       "      <td>...</td>\n",
       "      <td>0</td>\n",
       "      <td>0</td>\n",
       "      <td>0</td>\n",
       "      <td>0</td>\n",
       "      <td>1</td>\n",
       "      <td>0</td>\n",
       "      <td>0</td>\n",
       "      <td>0</td>\n",
       "      <td>0</td>\n",
       "      <td>0</td>\n",
       "    </tr>\n",
       "  </tbody>\n",
       "</table>\n",
       "<p>5 rows × 117 columns</p>\n",
       "</div>"
      ],
      "text/plain": [
       "   cap-shape_b  cap-shape_c  cap-shape_f  cap-shape_k  cap-shape_s  \\\n",
       "0            0            0            0            0            0   \n",
       "1            0            0            0            0            0   \n",
       "2            1            0            0            0            0   \n",
       "3            0            0            0            0            0   \n",
       "4            0            0            0            0            0   \n",
       "\n",
       "   cap-shape_x  cap-surface_f  cap-surface_g  cap-surface_s  cap-surface_y  \\\n",
       "0            1              0              0              1              0   \n",
       "1            1              0              0              1              0   \n",
       "2            0              0              0              1              0   \n",
       "3            1              0              0              0              1   \n",
       "4            1              0              0              1              0   \n",
       "\n",
       "   ...  population_s  population_v  population_y  habitat_d  habitat_g  \\\n",
       "0  ...             1             0             0          0          0   \n",
       "1  ...             0             0             0          0          1   \n",
       "2  ...             0             0             0          0          0   \n",
       "3  ...             1             0             0          0          0   \n",
       "4  ...             0             0             0          0          1   \n",
       "\n",
       "   habitat_l  habitat_m  habitat_p  habitat_u  habitat_w  \n",
       "0          0          0          0          1          0  \n",
       "1          0          0          0          0          0  \n",
       "2          0          1          0          0          0  \n",
       "3          0          0          0          1          0  \n",
       "4          0          0          0          0          0  \n",
       "\n",
       "[5 rows x 117 columns]"
      ]
     },
     "execution_count": 10,
     "metadata": {},
     "output_type": "execute_result"
    }
   ],
   "source": [
    "df_dum = pd.get_dummies(df)\n",
    "df_dum.head(5)"
   ]
  },
  {
   "cell_type": "markdown",
   "metadata": {},
   "source": [
    "Разобъём датасет на три выборки:"
   ]
  },
  {
   "cell_type": "code",
   "execution_count": 11,
   "metadata": {},
   "outputs": [],
   "source": [
    "X_train, X_test, y_train, y_test = train_test_split(df_dum,y_values, shuffle=True, stratify=y_values, test_size=0.3)\n",
    "X_valid, X_test, y_valid, y_test = train_test_split(X_test,y_test, shuffle=True, stratify=y_test, test_size=0.3)"
   ]
  },
  {
   "cell_type": "markdown",
   "metadata": {},
   "source": [
    "Для тренировки модели будем использовать линейную регрессию:"
   ]
  },
  {
   "cell_type": "code",
   "execution_count": 12,
   "metadata": {},
   "outputs": [
    {
     "data": {
      "text/plain": [
       "LogisticRegression()"
      ]
     },
     "execution_count": 12,
     "metadata": {},
     "output_type": "execute_result"
    }
   ],
   "source": [
    "log_reg = linear_model.LogisticRegression()\n",
    "log_reg.fit(X_train, y_train)"
   ]
  },
  {
   "cell_type": "code",
   "execution_count": 13,
   "metadata": {},
   "outputs": [
    {
     "data": {
      "text/plain": [
       "{'C': 1.0,\n",
       " 'class_weight': None,\n",
       " 'dual': False,\n",
       " 'fit_intercept': True,\n",
       " 'intercept_scaling': 1,\n",
       " 'l1_ratio': None,\n",
       " 'max_iter': 100,\n",
       " 'multi_class': 'auto',\n",
       " 'n_jobs': None,\n",
       " 'penalty': 'l2',\n",
       " 'random_state': None,\n",
       " 'solver': 'lbfgs',\n",
       " 'tol': 0.0001,\n",
       " 'verbose': 0,\n",
       " 'warm_start': False}"
      ]
     },
     "execution_count": 13,
     "metadata": {},
     "output_type": "execute_result"
    }
   ],
   "source": [
    "log_reg.get_params()"
   ]
  },
  {
   "cell_type": "code",
   "execution_count": 14,
   "metadata": {},
   "outputs": [
    {
     "name": "stdout",
     "output_type": "stream",
     "text": [
      "Точность на валидационном наборе: 1.0\n",
      "Точность на тестовом наборе: 1.0\n"
     ]
    }
   ],
   "source": [
    "predict = log_reg.predict(X_valid)\n",
    "print(\"Точность на валидационном наборе:\", metrics.accuracy_score(y_valid, predict))\n",
    "predict = log_reg.predict(X_test)\n",
    "print(\"Точность на тестовом наборе:\", metrics.accuracy_score(y_test, predict))"
   ]
  },
  {
   "cell_type": "markdown",
   "metadata": {},
   "source": [
    "Из рубрики \"Спойлер алерт\": точность 1.0 достигается при хорошем тестовом наборе и удачном seed.  \n",
    "Например, при разбиении train\\test 0.3 и valid\\test 0.5 на первом этапе точность на тестовом наборе будет не 1, а чуть поменьше (0.999).\n",
    "Но ведь не единица!"
   ]
  },
  {
   "cell_type": "markdown",
   "metadata": {},
   "source": [
    "Далее построим таблицу значимости атрибутов натренированной модели на основе тестовых данных.\n",
    "Изначально анализ проводился на всём датасете, но условие не указывает, что именно должно являться исходным параметром."
   ]
  },
  {
   "cell_type": "code",
   "execution_count": 15,
   "metadata": {},
   "outputs": [],
   "source": [
    "from sklearn.inspection import permutation_importance\n",
    "#result = permutation_importance(log_reg, df_dum, y_values, n_repeats=5, random_state=0)\n",
    "result = permutation_importance(log_reg, X_test, y_test, n_repeats=5, random_state=42)"
   ]
  },
  {
   "cell_type": "code",
   "execution_count": 16,
   "metadata": {},
   "outputs": [],
   "source": [
    "importance = result.importances_mean"
   ]
  },
  {
   "cell_type": "code",
   "execution_count": 17,
   "metadata": {},
   "outputs": [],
   "source": [
    "df_res = pd.DataFrame({'col':df_dum.columns, 'value':importance})"
   ]
  },
  {
   "cell_type": "code",
   "execution_count": 18,
   "metadata": {},
   "outputs": [
    {
     "data": {
      "text/html": [
       "<div>\n",
       "<style scoped>\n",
       "    .dataframe tbody tr th:only-of-type {\n",
       "        vertical-align: middle;\n",
       "    }\n",
       "\n",
       "    .dataframe tbody tr th {\n",
       "        vertical-align: top;\n",
       "    }\n",
       "\n",
       "    .dataframe thead th {\n",
       "        text-align: right;\n",
       "    }\n",
       "</style>\n",
       "<table border=\"1\" class=\"dataframe\">\n",
       "  <thead>\n",
       "    <tr style=\"text-align: right;\">\n",
       "      <th></th>\n",
       "      <th>col</th>\n",
       "      <th>value</th>\n",
       "    </tr>\n",
       "  </thead>\n",
       "  <tbody>\n",
       "    <tr>\n",
       "      <th>27</th>\n",
       "      <td>odor_n</td>\n",
       "      <td>0.022951</td>\n",
       "    </tr>\n",
       "    <tr>\n",
       "      <th>100</th>\n",
       "      <td>spore-print-color_r</td>\n",
       "      <td>0.004098</td>\n",
       "    </tr>\n",
       "    <tr>\n",
       "      <th>52</th>\n",
       "      <td>stalk-root_b</td>\n",
       "      <td>0.001093</td>\n",
       "    </tr>\n",
       "    <tr>\n",
       "      <th>0</th>\n",
       "      <td>cap-shape_b</td>\n",
       "      <td>0.000000</td>\n",
       "    </tr>\n",
       "    <tr>\n",
       "      <th>75</th>\n",
       "      <td>stalk-color-below-ring_e</td>\n",
       "      <td>0.000000</td>\n",
       "    </tr>\n",
       "    <tr>\n",
       "      <th>85</th>\n",
       "      <td>veil-color_w</td>\n",
       "      <td>0.000000</td>\n",
       "    </tr>\n",
       "    <tr>\n",
       "      <th>84</th>\n",
       "      <td>veil-color_o</td>\n",
       "      <td>0.000000</td>\n",
       "    </tr>\n",
       "    <tr>\n",
       "      <th>83</th>\n",
       "      <td>veil-color_n</td>\n",
       "      <td>0.000000</td>\n",
       "    </tr>\n",
       "    <tr>\n",
       "      <th>82</th>\n",
       "      <td>veil-type_p</td>\n",
       "      <td>0.000000</td>\n",
       "    </tr>\n",
       "    <tr>\n",
       "      <th>81</th>\n",
       "      <td>stalk-color-below-ring_y</td>\n",
       "      <td>0.000000</td>\n",
       "    </tr>\n",
       "  </tbody>\n",
       "</table>\n",
       "</div>"
      ],
      "text/plain": [
       "                          col     value\n",
       "27                     odor_n  0.022951\n",
       "100       spore-print-color_r  0.004098\n",
       "52               stalk-root_b  0.001093\n",
       "0                 cap-shape_b  0.000000\n",
       "75   stalk-color-below-ring_e  0.000000\n",
       "85               veil-color_w  0.000000\n",
       "84               veil-color_o  0.000000\n",
       "83               veil-color_n  0.000000\n",
       "82                veil-type_p  0.000000\n",
       "81   stalk-color-below-ring_y  0.000000"
      ]
     },
     "execution_count": 18,
     "metadata": {},
     "output_type": "execute_result"
    }
   ],
   "source": [
    "df_res.sort_values(by=['value'], ascending=False).head(10)"
   ]
  },
  {
   "cell_type": "markdown",
   "metadata": {},
   "source": [
    "По таблице, очевидно, что явным признаком ~~Covid-19~~ модели является отсутствие запаха.  \n",
    "И поэтому мы удаляем odor (не odor_n)"
   ]
  },
  {
   "cell_type": "markdown",
   "metadata": {},
   "source": [
    "Для достижения теоретически правильного выполнения лабораторной опишем построение дерева.  \n",
    "Оно здесь (в Jupyter) хуже применимо, т.к. всё наслаивается одно на другое,  \n",
    "а использовать другие модули не очень и хочется"
   ]
  },
  {
   "cell_type": "markdown",
   "metadata": {},
   "source": [
    "Можно не менять критерий при тренировке, но в контексте рассмотрения нами энтропии как показателя так будет лучше (наверное)."
   ]
  },
  {
   "cell_type": "code",
   "execution_count": 19,
   "metadata": {},
   "outputs": [
    {
     "data": {
      "text/plain": [
       "[Text(167.40000000000003, 190.26, 'odor_n <= 0.5\\nentropy = 0.999\\nsamples = 5686\\nvalue = [2741, 2945]'),\n",
       " Text(66.96000000000001, 135.9, 'bruises_t <= 0.5\\nentropy = 0.664\\nsamples = 3207\\nvalue = [2653, 554]'),\n",
       " Text(33.480000000000004, 81.53999999999999, 'entropy = 0.0\\nsamples = 2277\\nvalue = [2277, 0]'),\n",
       " Text(100.44000000000001, 81.53999999999999, 'stalk-root_c <= 0.5\\nentropy = 0.973\\nsamples = 930\\nvalue = [376, 554]'),\n",
       " Text(66.96000000000001, 27.180000000000007, '\\n  (...)  \\n'),\n",
       " Text(133.92000000000002, 27.180000000000007, '\\n  (...)  \\n'),\n",
       " Text(267.84000000000003, 135.9, 'spore-print-color_r <= 0.5\\nentropy = 0.221\\nsamples = 2479\\nvalue = [88, 2391]'),\n",
       " Text(234.36, 81.53999999999999, 'stalk-surface-below-ring_y <= 0.5\\nentropy = 0.114\\nsamples = 2428\\nvalue = [37, 2391]'),\n",
       " Text(200.88000000000002, 27.180000000000007, '\\n  (...)  \\n'),\n",
       " Text(267.84000000000003, 27.180000000000007, '\\n  (...)  \\n'),\n",
       " Text(301.32000000000005, 81.53999999999999, 'entropy = 0.0\\nsamples = 51\\nvalue = [51, 0]')]"
      ]
     },
     "execution_count": 19,
     "metadata": {},
     "output_type": "execute_result"
    },
    {
     "data": {
      "image/png": "[encoded data removed]",
      "text/plain": [
       "<Figure size 432x288 with 1 Axes>"
      ]
     },
     "metadata": {
      "needs_background": "light"
     },
     "output_type": "display_data"
    }
   ],
   "source": [
    "from sklearn import tree\n",
    "clf = tree.DecisionTreeClassifier(criterion='entropy')\n",
    "clf = clf.fit(X_train, y_train)\n",
    "tree.plot_tree(clf,feature_names=df_dum.columns, max_depth=2, fontsize=8) "
   ]
  },
  {
   "cell_type": "markdown",
   "metadata": {},
   "source": [
    "В дереве корневым признаком тоже является запах.  \n",
    "Поэтому теперь точно его удаляем:"
   ]
  },
  {
   "cell_type": "code",
   "execution_count": 20,
   "metadata": {},
   "outputs": [],
   "source": [
    "df = df.drop(columns=['odor'])"
   ]
  },
  {
   "cell_type": "code",
   "execution_count": 21,
   "metadata": {},
   "outputs": [
    {
     "data": {
      "text/html": [
       "<div>\n",
       "<style scoped>\n",
       "    .dataframe tbody tr th:only-of-type {\n",
       "        vertical-align: middle;\n",
       "    }\n",
       "\n",
       "    .dataframe tbody tr th {\n",
       "        vertical-align: top;\n",
       "    }\n",
       "\n",
       "    .dataframe thead th {\n",
       "        text-align: right;\n",
       "    }\n",
       "</style>\n",
       "<table border=\"1\" class=\"dataframe\">\n",
       "  <thead>\n",
       "    <tr style=\"text-align: right;\">\n",
       "      <th></th>\n",
       "      <th>cap-shape_b</th>\n",
       "      <th>cap-shape_c</th>\n",
       "      <th>cap-shape_f</th>\n",
       "      <th>cap-shape_k</th>\n",
       "      <th>cap-shape_s</th>\n",
       "      <th>cap-shape_x</th>\n",
       "      <th>cap-surface_f</th>\n",
       "      <th>cap-surface_g</th>\n",
       "      <th>cap-surface_s</th>\n",
       "      <th>cap-surface_y</th>\n",
       "      <th>...</th>\n",
       "      <th>population_s</th>\n",
       "      <th>population_v</th>\n",
       "      <th>population_y</th>\n",
       "      <th>habitat_d</th>\n",
       "      <th>habitat_g</th>\n",
       "      <th>habitat_l</th>\n",
       "      <th>habitat_m</th>\n",
       "      <th>habitat_p</th>\n",
       "      <th>habitat_u</th>\n",
       "      <th>habitat_w</th>\n",
       "    </tr>\n",
       "  </thead>\n",
       "  <tbody>\n",
       "    <tr>\n",
       "      <th>0</th>\n",
       "      <td>0</td>\n",
       "      <td>0</td>\n",
       "      <td>0</td>\n",
       "      <td>0</td>\n",
       "      <td>0</td>\n",
       "      <td>1</td>\n",
       "      <td>0</td>\n",
       "      <td>0</td>\n",
       "      <td>1</td>\n",
       "      <td>0</td>\n",
       "      <td>...</td>\n",
       "      <td>1</td>\n",
       "      <td>0</td>\n",
       "      <td>0</td>\n",
       "      <td>0</td>\n",
       "      <td>0</td>\n",
       "      <td>0</td>\n",
       "      <td>0</td>\n",
       "      <td>0</td>\n",
       "      <td>1</td>\n",
       "      <td>0</td>\n",
       "    </tr>\n",
       "    <tr>\n",
       "      <th>1</th>\n",
       "      <td>0</td>\n",
       "      <td>0</td>\n",
       "      <td>0</td>\n",
       "      <td>0</td>\n",
       "      <td>0</td>\n",
       "      <td>1</td>\n",
       "      <td>0</td>\n",
       "      <td>0</td>\n",
       "      <td>1</td>\n",
       "      <td>0</td>\n",
       "      <td>...</td>\n",
       "      <td>0</td>\n",
       "      <td>0</td>\n",
       "      <td>0</td>\n",
       "      <td>0</td>\n",
       "      <td>1</td>\n",
       "      <td>0</td>\n",
       "      <td>0</td>\n",
       "      <td>0</td>\n",
       "      <td>0</td>\n",
       "      <td>0</td>\n",
       "    </tr>\n",
       "    <tr>\n",
       "      <th>2</th>\n",
       "      <td>1</td>\n",
       "      <td>0</td>\n",
       "      <td>0</td>\n",
       "      <td>0</td>\n",
       "      <td>0</td>\n",
       "      <td>0</td>\n",
       "      <td>0</td>\n",
       "      <td>0</td>\n",
       "      <td>1</td>\n",
       "      <td>0</td>\n",
       "      <td>...</td>\n",
       "      <td>0</td>\n",
       "      <td>0</td>\n",
       "      <td>0</td>\n",
       "      <td>0</td>\n",
       "      <td>0</td>\n",
       "      <td>0</td>\n",
       "      <td>1</td>\n",
       "      <td>0</td>\n",
       "      <td>0</td>\n",
       "      <td>0</td>\n",
       "    </tr>\n",
       "    <tr>\n",
       "      <th>3</th>\n",
       "      <td>0</td>\n",
       "      <td>0</td>\n",
       "      <td>0</td>\n",
       "      <td>0</td>\n",
       "      <td>0</td>\n",
       "      <td>1</td>\n",
       "      <td>0</td>\n",
       "      <td>0</td>\n",
       "      <td>0</td>\n",
       "      <td>1</td>\n",
       "      <td>...</td>\n",
       "      <td>1</td>\n",
       "      <td>0</td>\n",
       "      <td>0</td>\n",
       "      <td>0</td>\n",
       "      <td>0</td>\n",
       "      <td>0</td>\n",
       "      <td>0</td>\n",
       "      <td>0</td>\n",
       "      <td>1</td>\n",
       "      <td>0</td>\n",
       "    </tr>\n",
       "    <tr>\n",
       "      <th>4</th>\n",
       "      <td>0</td>\n",
       "      <td>0</td>\n",
       "      <td>0</td>\n",
       "      <td>0</td>\n",
       "      <td>0</td>\n",
       "      <td>1</td>\n",
       "      <td>0</td>\n",
       "      <td>0</td>\n",
       "      <td>1</td>\n",
       "      <td>0</td>\n",
       "      <td>...</td>\n",
       "      <td>0</td>\n",
       "      <td>0</td>\n",
       "      <td>0</td>\n",
       "      <td>0</td>\n",
       "      <td>1</td>\n",
       "      <td>0</td>\n",
       "      <td>0</td>\n",
       "      <td>0</td>\n",
       "      <td>0</td>\n",
       "      <td>0</td>\n",
       "    </tr>\n",
       "  </tbody>\n",
       "</table>\n",
       "<p>5 rows × 108 columns</p>\n",
       "</div>"
      ],
      "text/plain": [
       "   cap-shape_b  cap-shape_c  cap-shape_f  cap-shape_k  cap-shape_s  \\\n",
       "0            0            0            0            0            0   \n",
       "1            0            0            0            0            0   \n",
       "2            1            0            0            0            0   \n",
       "3            0            0            0            0            0   \n",
       "4            0            0            0            0            0   \n",
       "\n",
       "   cap-shape_x  cap-surface_f  cap-surface_g  cap-surface_s  cap-surface_y  \\\n",
       "0            1              0              0              1              0   \n",
       "1            1              0              0              1              0   \n",
       "2            0              0              0              1              0   \n",
       "3            1              0              0              0              1   \n",
       "4            1              0              0              1              0   \n",
       "\n",
       "   ...  population_s  population_v  population_y  habitat_d  habitat_g  \\\n",
       "0  ...             1             0             0          0          0   \n",
       "1  ...             0             0             0          0          1   \n",
       "2  ...             0             0             0          0          0   \n",
       "3  ...             1             0             0          0          0   \n",
       "4  ...             0             0             0          0          1   \n",
       "\n",
       "   habitat_l  habitat_m  habitat_p  habitat_u  habitat_w  \n",
       "0          0          0          0          1          0  \n",
       "1          0          0          0          0          0  \n",
       "2          0          1          0          0          0  \n",
       "3          0          0          0          1          0  \n",
       "4          0          0          0          0          0  \n",
       "\n",
       "[5 rows x 108 columns]"
      ]
     },
     "execution_count": 21,
     "metadata": {},
     "output_type": "execute_result"
    }
   ],
   "source": [
    "df_dum = pd.get_dummies(df)\n",
    "df_dum.head(5)"
   ]
  },
  {
   "cell_type": "code",
   "execution_count": 22,
   "metadata": {},
   "outputs": [],
   "source": [
    "X_train, X_test, y_train, y_test = train_test_split(df_dum,y_values, shuffle=True, stratify=y_values, test_size=0.3)\n",
    "X_valid, X_test, y_valid, y_test = train_test_split(X_test,y_test, shuffle=True, stratify=y_test, test_size=0.3)"
   ]
  },
  {
   "cell_type": "code",
   "execution_count": 23,
   "metadata": {},
   "outputs": [
    {
     "name": "stdout",
     "output_type": "stream",
     "text": [
      "Точность на валидационном наборе: 0.9988276670574443\n",
      "Точность на тестовом наборе: 0.9972677595628415\n"
     ]
    }
   ],
   "source": [
    "log_reg = linear_model.LogisticRegression(max_iter=1000) #а то ругается\n",
    "log_reg.fit(X_train, y_train)\n",
    "predict = log_reg.predict(X_valid)\n",
    "print(\"Точность на валидационном наборе:\", metrics.accuracy_score(y_valid, predict))\n",
    "predict = log_reg.predict(X_test)\n",
    "print(\"Точность на тестовом наборе:\", metrics.accuracy_score(y_test, predict))"
   ]
  },
  {
   "cell_type": "code",
   "execution_count": 24,
   "metadata": {},
   "outputs": [
    {
     "data": {
      "text/html": [
       "<div>\n",
       "<style scoped>\n",
       "    .dataframe tbody tr th:only-of-type {\n",
       "        vertical-align: middle;\n",
       "    }\n",
       "\n",
       "    .dataframe tbody tr th {\n",
       "        vertical-align: top;\n",
       "    }\n",
       "\n",
       "    .dataframe thead th {\n",
       "        text-align: right;\n",
       "    }\n",
       "</style>\n",
       "<table border=\"1\" class=\"dataframe\">\n",
       "  <thead>\n",
       "    <tr style=\"text-align: right;\">\n",
       "      <th></th>\n",
       "      <th>col</th>\n",
       "      <th>value</th>\n",
       "    </tr>\n",
       "  </thead>\n",
       "  <tbody>\n",
       "    <tr>\n",
       "      <th>28</th>\n",
       "      <td>gill-color_b</td>\n",
       "      <td>0.051639</td>\n",
       "    </tr>\n",
       "    <tr>\n",
       "      <th>43</th>\n",
       "      <td>stalk-root_b</td>\n",
       "      <td>0.039071</td>\n",
       "    </tr>\n",
       "    <tr>\n",
       "      <th>26</th>\n",
       "      <td>gill-size_b</td>\n",
       "      <td>0.021311</td>\n",
       "    </tr>\n",
       "    <tr>\n",
       "      <th>27</th>\n",
       "      <td>gill-size_n</td>\n",
       "      <td>0.021311</td>\n",
       "    </tr>\n",
       "    <tr>\n",
       "      <th>87</th>\n",
       "      <td>spore-print-color_h</td>\n",
       "      <td>0.013115</td>\n",
       "    </tr>\n",
       "    <tr>\n",
       "      <th>48</th>\n",
       "      <td>stalk-surface-above-ring_k</td>\n",
       "      <td>0.007923</td>\n",
       "    </tr>\n",
       "    <tr>\n",
       "      <th>91</th>\n",
       "      <td>spore-print-color_r</td>\n",
       "      <td>0.005464</td>\n",
       "    </tr>\n",
       "    <tr>\n",
       "      <th>41</th>\n",
       "      <td>stalk-shape_t</td>\n",
       "      <td>0.005464</td>\n",
       "    </tr>\n",
       "    <tr>\n",
       "      <th>40</th>\n",
       "      <td>stalk-shape_e</td>\n",
       "      <td>0.005464</td>\n",
       "    </tr>\n",
       "    <tr>\n",
       "      <th>49</th>\n",
       "      <td>stalk-surface-above-ring_s</td>\n",
       "      <td>0.004918</td>\n",
       "    </tr>\n",
       "  </tbody>\n",
       "</table>\n",
       "</div>"
      ],
      "text/plain": [
       "                           col     value\n",
       "28                gill-color_b  0.051639\n",
       "43                stalk-root_b  0.039071\n",
       "26                 gill-size_b  0.021311\n",
       "27                 gill-size_n  0.021311\n",
       "87         spore-print-color_h  0.013115\n",
       "48  stalk-surface-above-ring_k  0.007923\n",
       "91         spore-print-color_r  0.005464\n",
       "41               stalk-shape_t  0.005464\n",
       "40               stalk-shape_e  0.005464\n",
       "49  stalk-surface-above-ring_s  0.004918"
      ]
     },
     "execution_count": 24,
     "metadata": {},
     "output_type": "execute_result"
    }
   ],
   "source": [
    "#result = permutation_importance(log_reg, df_dum, y_values, n_repeats=5, random_state=42)\n",
    "result = permutation_importance(log_reg, X_test, y_test, n_repeats=5, random_state=42)\n",
    "importance = result.importances_mean\n",
    "df_res = pd.DataFrame({'col':df_dum.columns, 'value':importance})\n",
    "sorted_vals = df_res.sort_values(by=['value'], ascending=False).head(10)\n",
    "sorted_vals"
   ]
  },
  {
   "cell_type": "code",
   "execution_count": 25,
   "metadata": {},
   "outputs": [
    {
     "data": {
      "image/png": "[encoded data removed]",
      "text/plain": [
       "<Figure size 432x288 with 1 Axes>"
      ]
     },
     "metadata": {
      "needs_background": "light"
     },
     "output_type": "display_data"
    }
   ],
   "source": [
    "clf_2 = tree.DecisionTreeClassifier(criterion='entropy')\n",
    "clf_2 = clf_2.fit(X_train, y_train)\n",
    "tr = tree.plot_tree(clf_2,max_depth=2, fontsize=8, feature_names=df_dum.columns) "
   ]
  },
  {
   "cell_type": "markdown",
   "metadata": {},
   "source": [
    "Здесь можно выдвинуть очередную гипотезу:    \n",
    "Дело в том, что сейчас мы фактически получили два признака, которые можно удалить в контексте самых влияющих на модель.  \n",
    "Поэтому сделаем следующее: для каждого из случаев будем удалять признаки, пока точность не уйдёт ниже отметки 0.9\n",
    "Важное замечание: на этот раз, ради эксперимента, построение дерева будет по всему(!) датасету. Причина простая: гипотетически, мы не знаем, какой объём датасета будет на каждом из шагов. Из этого следует, что у нас может быть очень маленькая тестовая выборка, со всеми вытекающими отсюда последствиями"
   ]
  },
  {
   "cell_type": "code",
   "execution_count": 26,
   "metadata": {},
   "outputs": [],
   "source": [
    "predict_global = 1\n",
    "df = pd.read_csv('C:/mushrooms.csv')\n",
    "y_values, y_names = pd.factorize(df['class'])\n",
    "df = df.drop(columns=['class'])\n",
    "df = df.drop(columns=['odor'])\n",
    "\n",
    "last_class = None"
   ]
  },
  {
   "cell_type": "code",
   "execution_count": 27,
   "metadata": {},
   "outputs": [
    {
     "name": "stdout",
     "output_type": "stream",
     "text": [
      "Точность на валидационном наборе: 0.9988276670574443\n",
      "Точность на тестовом наборе: 1.0\n",
      "Удаляется stalk-surface-below-ring\n",
      "Точность на валидационном наборе: 0.9958968347010551\n",
      "Точность на тестовом наборе: 0.9986338797814208\n",
      "Удаляется stalk-surface-above-ring\n",
      "Точность на валидационном наборе: 0.9964830011723329\n",
      "Точность на тестовом наборе: 0.9972677595628415\n",
      "Удаляется gill-color\n",
      "Точность на валидационном наборе: 0.9906213364595545\n",
      "Точность на тестовом наборе: 0.9918032786885246\n",
      "Удаляется gill-size\n",
      "Точность на валидационном наборе: 0.9912075029308324\n",
      "Точность на тестовом наборе: 0.9931693989071039\n",
      "Удаляется spore-print-color\n",
      "Точность на валидационном наборе: 0.9900351699882767\n",
      "Точность на тестовом наборе: 0.9904371584699454\n",
      "Удаляется ring-type\n",
      "Точность на валидационном наборе: 0.9835873388042204\n",
      "Точность на тестовом наборе: 0.9849726775956285\n",
      "Удаляется bruises\n",
      "Точность на валидационном наборе: 0.9841735052754983\n",
      "Точность на тестовом наборе: 0.98224043715847\n",
      "Удаляется population\n",
      "Точность на валидационном наборе: 0.9853458382180539\n",
      "Точность на тестовом наборе: 0.9877049180327869\n",
      "Удаляется gill-spacing\n",
      "Точность на валидационном наборе: 0.9783118405627198\n",
      "Точность на тестовом наборе: 0.9863387978142076\n",
      "Удаляется habitat\n",
      "Точность на валидационном наборе: 0.9747948417350527\n",
      "Точность на тестовом наборе: 0.9754098360655737\n",
      "Удаляется stalk-color-below-ring\n",
      "Точность на валидационном наборе: 0.9648300117233294\n",
      "Точность на тестовом наборе: 0.9631147540983607\n",
      "Удаляется stalk-color-above-ring\n",
      "Точность на валидационном наборе: 0.9654161781946072\n",
      "Точность на тестовом наборе: 0.9726775956284153\n",
      "Удаляется stalk-root\n",
      "Точность на валидационном наборе: 0.7907385697538101\n",
      "Точность на тестовом наборе: 0.8210382513661202\n",
      "Удаляется veil-color\n"
     ]
    },
    {
     "data": {
      "image/png": "[encoded data removed]",
      "text/plain": [
       "<Figure size 432x288 with 1 Axes>"
      ]
     },
     "metadata": {
      "needs_background": "light"
     },
     "output_type": "display_data"
    }
   ],
   "source": [
    "while predict_global > 0.9:\n",
    "    if last_class:\n",
    "        df = df.drop(columns=[last_class])\n",
    "    df_dum = pd.get_dummies(df)\n",
    "    X_train, X_test, y_train, y_test = train_test_split(df_dum,y_values, shuffle=True, stratify=y_values, test_size=0.3)\n",
    "    X_valid, X_test, y_valid, y_test = train_test_split(X_test,y_test, shuffle=True, stratify=y_test, test_size=0.3)\n",
    "    log_reg = linear_model.LogisticRegression(max_iter=1000) #а то ругается\n",
    "    log_reg.fit(X_train, y_train)\n",
    "    predict = log_reg.predict(X_valid)\n",
    "    print(\"Точность на валидационном наборе:\", metrics.accuracy_score(y_valid, predict))\n",
    "    predict = log_reg.predict(X_test)\n",
    "    predict_global = metrics.accuracy_score(y_test, predict)\n",
    "    print(\"Точность на тестовом наборе:\", predict_global)\n",
    "    \n",
    "    clf = tree.DecisionTreeClassifier(criterion='entropy')\n",
    "    clf = clf.fit(X_test, y_test)\n",
    "    tr = tree.plot_tree(clf,feature_names=df_dum.columns,max_depth=2, fontsize=8) \n",
    "\n",
    "    temp = str(tr[0])\n",
    "    begin = temp.find(\"'\") + 1\n",
    "    end = temp.find(\"_\")\n",
    "    last_class = temp[begin:end]\n",
    "    \n",
    "    print(\"Удаляется\", last_class)"
   ]
  },
  {
   "cell_type": "code",
   "execution_count": 28,
   "metadata": {},
   "outputs": [
    {
     "name": "stdout",
     "output_type": "stream",
     "text": [
      "8 Index(['cap-shape', 'cap-surface', 'cap-color', 'gill-attachment',\n",
      "       'stalk-shape', 'veil-type', 'veil-color', 'ring-number'],\n",
      "      dtype='object')\n"
     ]
    }
   ],
   "source": [
    "print(len(df.columns), df.columns)"
   ]
  },
  {
   "cell_type": "code",
   "execution_count": 29,
   "metadata": {},
   "outputs": [
    {
     "name": "stdout",
     "output_type": "stream",
     "text": [
      "Точность на валидационном наборе: 0.9976553341148886\n",
      "Точность на тестовом наборе: 0.9986338797814208\n",
      "Удаляется gill-color\n",
      "Точность на валидационном наборе: 0.9958968347010551\n",
      "Точность на тестовом наборе: 0.9986338797814208\n",
      "Удаляется gill-size\n",
      "Точность на валидационном наборе: 0.9929660023446659\n",
      "Точность на тестовом наборе: 0.9877049180327869\n",
      "Удаляется ring-number\n",
      "Точность на валидационном наборе: 0.9830011723329426\n",
      "Точность на тестовом наборе: 0.98224043715847\n",
      "Удаляется ring-type\n",
      "Точность на валидационном наборе: 0.9771395076201641\n",
      "Точность на тестовом наборе: 0.9795081967213115\n",
      "Удаляется spore-print-color\n",
      "Точность на валидационном наборе: 0.977725674091442\n",
      "Точность на тестовом наборе: 0.9795081967213115\n",
      "Удаляется stalk-root\n",
      "Точность на валидационном наборе: 0.9660023446658851\n",
      "Точность на тестовом наборе: 0.9685792349726776\n",
      "Удаляется population\n",
      "Точность на валидационном наборе: 0.958968347010551\n",
      "Точность на тестовом наборе: 0.9508196721311475\n",
      "Удаляется gill-spacing\n",
      "Точность на валидационном наборе: 0.9302461899179367\n",
      "Точность на тестовом наборе: 0.9398907103825137\n",
      "Удаляется stalk-surface-above-ring\n",
      "Точность на валидационном наборе: 0.9243845252051582\n",
      "Точность на тестовом наборе: 0.9371584699453552\n",
      "Удаляется stalk-surface-below-ring\n",
      "Точность на валидационном наборе: 0.9150058616647128\n",
      "Точность на тестовом наборе: 0.9330601092896175\n",
      "Удаляется habitat\n",
      "Точность на валидационном наборе: 0.8599062133645955\n",
      "Точность на тестовом наборе: 0.8688524590163934\n"
     ]
    }
   ],
   "source": [
    "predict_global = 1\n",
    "df = pd.read_csv('C:/mushrooms.csv')\n",
    "y_values, y_names = pd.factorize(df['class'])\n",
    "df = df.drop(columns=['class'])\n",
    "df = df.drop(columns=['odor'])\n",
    "last_class = None\n",
    "\n",
    "while predict_global > 0.9:\n",
    "    \n",
    "    if last_class:\n",
    "        print(\"Удаляется\", last_class)\n",
    "        df = df.drop(columns=[last_class])\n",
    "    df_dum = pd.get_dummies(df)\n",
    "    X_train, X_test, y_train, y_test = train_test_split(df_dum,y_values, shuffle=True, stratify=y_values, test_size=0.3, random_state = 42)\n",
    "    X_valid, X_test, y_valid, y_test = train_test_split(X_test,y_test, shuffle=True, stratify=y_test, test_size=0.3, random_state = 42)\n",
    "    log_reg = linear_model.LogisticRegression(max_iter=1000)\n",
    "    log_reg.fit(X_train, y_train)\n",
    "    predict = log_reg.predict(X_valid)\n",
    "    print(\"Точность на валидационном наборе:\", metrics.accuracy_score(y_valid, predict))\n",
    "    predict = log_reg.predict(X_test)\n",
    "    predict_global = metrics.accuracy_score(y_test, predict)\n",
    "    print(\"Точность на тестовом наборе:\", predict_global)\n",
    "    result = permutation_importance(log_reg, df_dum, y_values, n_repeats=5, random_state=42)\n",
    "    #result = permutation_importance(log_reg, X_test, y_test, n_repeats=5, random_state=42)\n",
    "    importance = result.importances_mean\n",
    "    df_res = pd.DataFrame({'col':df_dum.columns, 'value':importance})\n",
    "    sorted_vals = df_res.sort_values(by=['value'], ascending=False).head(10)\n",
    "    last_class = sorted_vals.iloc[0].col\n",
    "    last_class = last_class[0:last_class.find('_')]"
   ]
  },
  {
   "cell_type": "code",
   "execution_count": 30,
   "metadata": {},
   "outputs": [
    {
     "name": "stdout",
     "output_type": "stream",
     "text": [
      "10 Index(['cap-shape', 'cap-surface', 'cap-color', 'bruises', 'gill-attachment',\n",
      "       'stalk-shape', 'stalk-color-above-ring', 'stalk-color-below-ring',\n",
      "       'veil-type', 'veil-color'],\n",
      "      dtype='object')\n"
     ]
    }
   ],
   "source": [
    "print(len(df.columns), df.columns)"
   ]
  },
  {
   "cell_type": "markdown",
   "metadata": {},
   "source": [
    "Результаты интересные.  \n",
    "Продолжаем анализ.  \n",
    "Возьмём последний датасет (где 10 признаков) и натренируем его на данных в разных комбинациях (при помощи shuffle = True).  \n"
   ]
  },
  {
   "cell_type": "code",
   "execution_count": 31,
   "metadata": {},
   "outputs": [
    {
     "name": "stdout",
     "output_type": "stream",
     "text": [
      "Точность на валидационном наборе: 0.8599062133645955\n",
      "Точность на тестовом наборе: 0.8688524590163934\n",
      "Точность на валидационном наборе: 0.8599062133645955\n",
      "Точность на тестовом наборе: 0.8688524590163934\n",
      "Точность на валидационном наборе: 0.8599062133645955\n",
      "Точность на тестовом наборе: 0.8688524590163934\n",
      "Точность на валидационном наборе: 0.8599062133645955\n",
      "Точность на тестовом наборе: 0.8688524590163934\n",
      "Точность на валидационном наборе: 0.8599062133645955\n",
      "Точность на тестовом наборе: 0.8688524590163934\n",
      "Точность на валидационном наборе: 0.8599062133645955\n",
      "Точность на тестовом наборе: 0.8688524590163934\n",
      "Точность на валидационном наборе: 0.8599062133645955\n",
      "Точность на тестовом наборе: 0.8688524590163934\n",
      "Точность на валидационном наборе: 0.8599062133645955\n",
      "Точность на тестовом наборе: 0.8688524590163934\n",
      "Точность на валидационном наборе: 0.8599062133645955\n",
      "Точность на тестовом наборе: 0.8688524590163934\n",
      "Точность на валидационном наборе: 0.8599062133645955\n",
      "Точность на тестовом наборе: 0.8688524590163934\n"
     ]
    }
   ],
   "source": [
    "for i in range(10):\n",
    "    X_train, X_test, y_train, y_test = train_test_split(df_dum,y_values, shuffle=True, stratify=y_values, test_size=0.3, random_state=42)\n",
    "    X_valid, X_test, y_valid, y_test = train_test_split(X_test,y_test, shuffle=True, stratify=y_test, test_size=0.3, random_state=42)\n",
    "\n",
    "    log_reg = linear_model.LogisticRegression(max_iter=1000)\n",
    "    log_reg.fit(X_train, y_train)\n",
    "    predict = log_reg.predict(X_valid)\n",
    "    print(\"Точность на валидационном наборе:\", metrics.accuracy_score(y_valid, predict))\n",
    "    predict = log_reg.predict(X_test)\n",
    "    predict_global = metrics.accuracy_score(y_test, predict)\n",
    "    print(\"Точность на тестовом наборе:\", predict_global)"
   ]
  },
  {
   "cell_type": "markdown",
   "metadata": {},
   "source": [
    "Временный добив через рандом форест"
   ]
  },
  {
   "cell_type": "code",
   "execution_count": 32,
   "metadata": {},
   "outputs": [
    {
     "data": {
      "text/plain": [
       "\"\\ndf = pd.read_csv('C:/mushrooms.csv')\\ndf = df.drop(columns=['odor'])\\ny_values, y_names = pd.factorize(df['class'])\\ndf = df.drop(columns=['class'])\\ndf_dum = pd.get_dummies(df)\\n\""
      ]
     },
     "execution_count": 32,
     "metadata": {},
     "output_type": "execute_result"
    }
   ],
   "source": [
    "'''\n",
    "df = pd.read_csv('C:/mushrooms.csv')\n",
    "df = df.drop(columns=['odor'])\n",
    "y_values, y_names = pd.factorize(df['class'])\n",
    "df = df.drop(columns=['class'])\n",
    "df_dum = pd.get_dummies(df)\n",
    "'''"
   ]
  },
  {
   "cell_type": "code",
   "execution_count": 33,
   "metadata": {},
   "outputs": [
    {
     "data": {
      "text/plain": [
       "RandomForestRegressor(n_estimators=1000, random_state=42)"
      ]
     },
     "execution_count": 33,
     "metadata": {},
     "output_type": "execute_result"
    }
   ],
   "source": [
    "from sklearn.ensemble import RandomForestRegressor\n",
    "X_train, X_test, y_train, y_test = train_test_split(df_dum,y_values, shuffle=True, stratify=y_values, test_size=0.3, random_state = 42)\n",
    "X_valid, X_test, y_valid, y_test = train_test_split(X_test,y_test, shuffle=True, stratify=y_test, test_size=0.3, random_state = 42)\n",
    "\n",
    "rf = RandomForestRegressor(n_estimators = 1000, random_state = 42)\n",
    "rf.fit(X_train, y_train)"
   ]
  },
  {
   "cell_type": "code",
   "execution_count": 34,
   "metadata": {},
   "outputs": [
    {
     "data": {
      "text/plain": [
       "{'bootstrap': True,\n",
       " 'ccp_alpha': 0.0,\n",
       " 'criterion': 'mse',\n",
       " 'max_depth': None,\n",
       " 'max_features': 'auto',\n",
       " 'max_leaf_nodes': None,\n",
       " 'max_samples': None,\n",
       " 'min_impurity_decrease': 0.0,\n",
       " 'min_impurity_split': None,\n",
       " 'min_samples_leaf': 1,\n",
       " 'min_samples_split': 2,\n",
       " 'min_weight_fraction_leaf': 0.0,\n",
       " 'n_estimators': 1000,\n",
       " 'n_jobs': None,\n",
       " 'oob_score': False,\n",
       " 'random_state': 42,\n",
       " 'verbose': 0,\n",
       " 'warm_start': False}"
      ]
     },
     "execution_count": 34,
     "metadata": {},
     "output_type": "execute_result"
    }
   ],
   "source": [
    "rf.get_params()"
   ]
  },
  {
   "cell_type": "code",
   "execution_count": 35,
   "metadata": {},
   "outputs": [
    {
     "data": {
      "text/plain": [
       "0.8825342798944464"
      ]
     },
     "metadata": {},
     "output_type": "display_data"
    }
   ],
   "source": [
    "display(rf.score(X_train, y_train))"
   ]
  },
  {
   "cell_type": "code",
   "execution_count": 36,
   "metadata": {},
   "outputs": [
    {
     "data": {
      "text/plain": [
       "0.874358450930906"
      ]
     },
     "metadata": {},
     "output_type": "display_data"
    }
   ],
   "source": [
    "predictions = rf.predict(X_valid)\n",
    "display(rf.score(X_valid, y_valid))"
   ]
  },
  {
   "cell_type": "code",
   "execution_count": 37,
   "metadata": {},
   "outputs": [
    {
     "data": {
      "text/plain": [
       "0.8667783291455852"
      ]
     },
     "metadata": {},
     "output_type": "display_data"
    }
   ],
   "source": [
    "predictions = rf.predict(X_test)\n",
    "display(rf.score(X_test, y_test))"
   ]
  },
  {
   "cell_type": "markdown",
   "metadata": {},
   "source": [
    "И для 40"
   ]
  },
  {
   "cell_type": "code",
   "execution_count": 38,
   "metadata": {},
   "outputs": [
    {
     "data": {
      "text/plain": [
       "0.88328280797458"
      ]
     },
     "metadata": {},
     "output_type": "display_data"
    },
    {
     "data": {
      "text/plain": [
       "0.8614644747116532"
      ]
     },
     "metadata": {},
     "output_type": "display_data"
    },
    {
     "data": {
      "text/plain": [
       "0.8972406894276085"
      ]
     },
     "metadata": {},
     "output_type": "display_data"
    }
   ],
   "source": [
    "X_train, X_test, y_train, y_test = train_test_split(df_dum,y_values, shuffle=True, stratify=y_values, test_size=0.3, random_state = 40)\n",
    "X_valid, X_test, y_valid, y_test = train_test_split(X_test,y_test, shuffle=True, stratify=y_test, test_size=0.3, random_state = 40)\n",
    "\n",
    "rf = RandomForestRegressor(n_estimators = 1000, random_state = 40)\n",
    "rf.fit(X_train, y_train)\n",
    "display(rf.score(X_train, y_train))\n",
    "predictions = rf.predict(X_valid)\n",
    "display(rf.score(X_valid, y_valid))\n",
    "predictions = rf.predict(X_test)\n",
    "display(rf.score(X_test, y_test))"
   ]
  },
  {
   "cell_type": "markdown",
   "metadata": {},
   "source": [
    "Вопросов больше, чем ответов"
   ]
  },
  {
   "cell_type": "code",
   "execution_count": 39,
   "metadata": {},
   "outputs": [
    {
     "data": {
      "image/png": "[encoded data removed]",
      "text/plain": [
       "<Figure size 432x288 with 1 Axes>"
      ]
     },
     "metadata": {
      "needs_background": "light"
     },
     "output_type": "display_data"
    }
   ],
   "source": [
    "from sklearn import tree\n",
    "import pydot\n",
    "\n",
    "tree1 = rf.estimators_[123]\n",
    "\n",
    "tr = tree.plot_tree(tree1,feature_names=df_dum.columns,max_depth=2, fontsize=8) "
   ]
  },
  {
   "cell_type": "markdown",
   "metadata": {},
   "source": [
    "И как эксперимент в будущее, можно попробовать поискать оптимальные параметры  \n",
    "Выборка параметров небольшая, т.к. долго считается"
   ]
  },
  {
   "cell_type": "code",
   "execution_count": 40,
   "metadata": {},
   "outputs": [],
   "source": [
    "from sklearn.model_selection import RandomizedSearchCV\n",
    "random_grid = {'bootstrap': [True, False],\n",
    "               'max_depth': [1,2,3,4,None],\n",
    "               'max_features': ['auto', 'sqrt'],\n",
    "               'min_samples_leaf': [1, 2, 4],\n",
    "               'min_samples_split': [2,3,5,10]\n",
    "              }\n"
   ]
  },
  {
   "cell_type": "code",
   "execution_count": 41,
   "metadata": {},
   "outputs": [
    {
     "name": "stdout",
     "output_type": "stream",
     "text": [
      "Fitting 5 folds for each of 10 candidates, totalling 50 fits\n",
      "[CV] min_samples_split=3, min_samples_leaf=4, max_features=sqrt, max_depth=3, bootstrap=True \n"
     ]
    },
    {
     "name": "stderr",
     "output_type": "stream",
     "text": [
      "[Parallel(n_jobs=1)]: Using backend SequentialBackend with 1 concurrent workers.\n"
     ]
    },
    {
     "name": "stdout",
     "output_type": "stream",
     "text": [
      "[CV]  min_samples_split=3, min_samples_leaf=4, max_features=sqrt, max_depth=3, bootstrap=True, total=   2.6s\n",
      "[CV] min_samples_split=3, min_samples_leaf=4, max_features=sqrt, max_depth=3, bootstrap=True \n"
     ]
    },
    {
     "name": "stderr",
     "output_type": "stream",
     "text": [
      "[Parallel(n_jobs=1)]: Done   1 out of   1 | elapsed:    2.5s remaining:    0.0s\n"
     ]
    },
    {
     "name": "stdout",
     "output_type": "stream",
     "text": [
      "[CV]  min_samples_split=3, min_samples_leaf=4, max_features=sqrt, max_depth=3, bootstrap=True, total=   2.5s\n",
      "[CV] min_samples_split=3, min_samples_leaf=4, max_features=sqrt, max_depth=3, bootstrap=True \n",
      "[CV]  min_samples_split=3, min_samples_leaf=4, max_features=sqrt, max_depth=3, bootstrap=True, total=   2.4s\n",
      "[CV] min_samples_split=3, min_samples_leaf=4, max_features=sqrt, max_depth=3, bootstrap=True \n",
      "[CV]  min_samples_split=3, min_samples_leaf=4, max_features=sqrt, max_depth=3, bootstrap=True, total=   2.5s\n",
      "[CV] min_samples_split=3, min_samples_leaf=4, max_features=sqrt, max_depth=3, bootstrap=True \n",
      "[CV]  min_samples_split=3, min_samples_leaf=4, max_features=sqrt, max_depth=3, bootstrap=True, total=   2.6s\n",
      "[CV] min_samples_split=2, min_samples_leaf=2, max_features=auto, max_depth=4, bootstrap=False \n",
      "[CV]  min_samples_split=2, min_samples_leaf=2, max_features=auto, max_depth=4, bootstrap=False, total=   6.6s\n",
      "[CV] min_samples_split=2, min_samples_leaf=2, max_features=auto, max_depth=4, bootstrap=False \n",
      "[CV]  min_samples_split=2, min_samples_leaf=2, max_features=auto, max_depth=4, bootstrap=False, total=   6.5s\n",
      "[CV] min_samples_split=2, min_samples_leaf=2, max_features=auto, max_depth=4, bootstrap=False \n",
      "[CV]  min_samples_split=2, min_samples_leaf=2, max_features=auto, max_depth=4, bootstrap=False, total=   6.5s\n",
      "[CV] min_samples_split=2, min_samples_leaf=2, max_features=auto, max_depth=4, bootstrap=False \n",
      "[CV]  min_samples_split=2, min_samples_leaf=2, max_features=auto, max_depth=4, bootstrap=False, total=   6.4s\n",
      "[CV] min_samples_split=2, min_samples_leaf=2, max_features=auto, max_depth=4, bootstrap=False \n",
      "[CV]  min_samples_split=2, min_samples_leaf=2, max_features=auto, max_depth=4, bootstrap=False, total=   6.6s\n",
      "[CV] min_samples_split=2, min_samples_leaf=2, max_features=auto, max_depth=None, bootstrap=True \n",
      "[CV]  min_samples_split=2, min_samples_leaf=2, max_features=auto, max_depth=None, bootstrap=True, total=   6.4s\n",
      "[CV] min_samples_split=2, min_samples_leaf=2, max_features=auto, max_depth=None, bootstrap=True \n",
      "[CV]  min_samples_split=2, min_samples_leaf=2, max_features=auto, max_depth=None, bootstrap=True, total=   6.6s\n",
      "[CV] min_samples_split=2, min_samples_leaf=2, max_features=auto, max_depth=None, bootstrap=True \n",
      "[CV]  min_samples_split=2, min_samples_leaf=2, max_features=auto, max_depth=None, bootstrap=True, total=   6.2s\n",
      "[CV] min_samples_split=2, min_samples_leaf=2, max_features=auto, max_depth=None, bootstrap=True \n",
      "[CV]  min_samples_split=2, min_samples_leaf=2, max_features=auto, max_depth=None, bootstrap=True, total=   6.2s\n",
      "[CV] min_samples_split=2, min_samples_leaf=2, max_features=auto, max_depth=None, bootstrap=True \n",
      "[CV]  min_samples_split=2, min_samples_leaf=2, max_features=auto, max_depth=None, bootstrap=True, total=   6.2s\n",
      "[CV] min_samples_split=3, min_samples_leaf=2, max_features=auto, max_depth=None, bootstrap=False \n",
      "[CV]  min_samples_split=3, min_samples_leaf=2, max_features=auto, max_depth=None, bootstrap=False, total=   7.9s\n",
      "[CV] min_samples_split=3, min_samples_leaf=2, max_features=auto, max_depth=None, bootstrap=False \n",
      "[CV]  min_samples_split=3, min_samples_leaf=2, max_features=auto, max_depth=None, bootstrap=False, total=   8.4s\n",
      "[CV] min_samples_split=3, min_samples_leaf=2, max_features=auto, max_depth=None, bootstrap=False \n",
      "[CV]  min_samples_split=3, min_samples_leaf=2, max_features=auto, max_depth=None, bootstrap=False, total=   8.1s\n",
      "[CV] min_samples_split=3, min_samples_leaf=2, max_features=auto, max_depth=None, bootstrap=False \n",
      "[CV]  min_samples_split=3, min_samples_leaf=2, max_features=auto, max_depth=None, bootstrap=False, total=   8.2s\n",
      "[CV] min_samples_split=3, min_samples_leaf=2, max_features=auto, max_depth=None, bootstrap=False \n",
      "[CV]  min_samples_split=3, min_samples_leaf=2, max_features=auto, max_depth=None, bootstrap=False, total=   8.2s\n",
      "[CV] min_samples_split=10, min_samples_leaf=4, max_features=auto, max_depth=1, bootstrap=True \n",
      "[CV]  min_samples_split=10, min_samples_leaf=4, max_features=auto, max_depth=1, bootstrap=True, total=   3.1s\n",
      "[CV] min_samples_split=10, min_samples_leaf=4, max_features=auto, max_depth=1, bootstrap=True \n",
      "[CV]  min_samples_split=10, min_samples_leaf=4, max_features=auto, max_depth=1, bootstrap=True, total=   3.0s\n",
      "[CV] min_samples_split=10, min_samples_leaf=4, max_features=auto, max_depth=1, bootstrap=True \n",
      "[CV]  min_samples_split=10, min_samples_leaf=4, max_features=auto, max_depth=1, bootstrap=True, total=   3.0s\n",
      "[CV] min_samples_split=10, min_samples_leaf=4, max_features=auto, max_depth=1, bootstrap=True \n",
      "[CV]  min_samples_split=10, min_samples_leaf=4, max_features=auto, max_depth=1, bootstrap=True, total=   3.2s\n",
      "[CV] min_samples_split=10, min_samples_leaf=4, max_features=auto, max_depth=1, bootstrap=True \n",
      "[CV]  min_samples_split=10, min_samples_leaf=4, max_features=auto, max_depth=1, bootstrap=True, total=   3.0s\n",
      "[CV] min_samples_split=10, min_samples_leaf=4, max_features=auto, max_depth=2, bootstrap=True \n",
      "[CV]  min_samples_split=10, min_samples_leaf=4, max_features=auto, max_depth=2, bootstrap=True, total=   4.0s\n",
      "[CV] min_samples_split=10, min_samples_leaf=4, max_features=auto, max_depth=2, bootstrap=True \n",
      "[CV]  min_samples_split=10, min_samples_leaf=4, max_features=auto, max_depth=2, bootstrap=True, total=   4.0s\n",
      "[CV] min_samples_split=10, min_samples_leaf=4, max_features=auto, max_depth=2, bootstrap=True \n",
      "[CV]  min_samples_split=10, min_samples_leaf=4, max_features=auto, max_depth=2, bootstrap=True, total=   4.0s\n",
      "[CV] min_samples_split=10, min_samples_leaf=4, max_features=auto, max_depth=2, bootstrap=True \n",
      "[CV]  min_samples_split=10, min_samples_leaf=4, max_features=auto, max_depth=2, bootstrap=True, total=   4.4s\n",
      "[CV] min_samples_split=10, min_samples_leaf=4, max_features=auto, max_depth=2, bootstrap=True \n",
      "[CV]  min_samples_split=10, min_samples_leaf=4, max_features=auto, max_depth=2, bootstrap=True, total=   3.9s\n",
      "[CV] min_samples_split=3, min_samples_leaf=1, max_features=sqrt, max_depth=2, bootstrap=True \n",
      "[CV]  min_samples_split=3, min_samples_leaf=1, max_features=sqrt, max_depth=2, bootstrap=True, total=   2.3s\n",
      "[CV] min_samples_split=3, min_samples_leaf=1, max_features=sqrt, max_depth=2, bootstrap=True \n",
      "[CV]  min_samples_split=3, min_samples_leaf=1, max_features=sqrt, max_depth=2, bootstrap=True, total=   2.2s\n",
      "[CV] min_samples_split=3, min_samples_leaf=1, max_features=sqrt, max_depth=2, bootstrap=True \n",
      "[CV]  min_samples_split=3, min_samples_leaf=1, max_features=sqrt, max_depth=2, bootstrap=True, total=   2.2s\n",
      "[CV] min_samples_split=3, min_samples_leaf=1, max_features=sqrt, max_depth=2, bootstrap=True \n",
      "[CV]  min_samples_split=3, min_samples_leaf=1, max_features=sqrt, max_depth=2, bootstrap=True, total=   2.2s\n",
      "[CV] min_samples_split=3, min_samples_leaf=1, max_features=sqrt, max_depth=2, bootstrap=True \n",
      "[CV]  min_samples_split=3, min_samples_leaf=1, max_features=sqrt, max_depth=2, bootstrap=True, total=   2.2s\n",
      "[CV] min_samples_split=5, min_samples_leaf=1, max_features=sqrt, max_depth=4, bootstrap=False \n",
      "[CV]  min_samples_split=5, min_samples_leaf=1, max_features=sqrt, max_depth=4, bootstrap=False, total=   2.3s\n",
      "[CV] min_samples_split=5, min_samples_leaf=1, max_features=sqrt, max_depth=4, bootstrap=False \n",
      "[CV]  min_samples_split=5, min_samples_leaf=1, max_features=sqrt, max_depth=4, bootstrap=False, total=   2.3s\n",
      "[CV] min_samples_split=5, min_samples_leaf=1, max_features=sqrt, max_depth=4, bootstrap=False \n",
      "[CV]  min_samples_split=5, min_samples_leaf=1, max_features=sqrt, max_depth=4, bootstrap=False, total=   2.7s\n",
      "[CV] min_samples_split=5, min_samples_leaf=1, max_features=sqrt, max_depth=4, bootstrap=False \n",
      "[CV]  min_samples_split=5, min_samples_leaf=1, max_features=sqrt, max_depth=4, bootstrap=False, total=   2.7s\n",
      "[CV] min_samples_split=5, min_samples_leaf=1, max_features=sqrt, max_depth=4, bootstrap=False \n",
      "[CV]  min_samples_split=5, min_samples_leaf=1, max_features=sqrt, max_depth=4, bootstrap=False, total=   2.4s\n",
      "[CV] min_samples_split=10, min_samples_leaf=1, max_features=sqrt, max_depth=None, bootstrap=True \n",
      "[CV]  min_samples_split=10, min_samples_leaf=1, max_features=sqrt, max_depth=None, bootstrap=True, total=   3.5s\n",
      "[CV] min_samples_split=10, min_samples_leaf=1, max_features=sqrt, max_depth=None, bootstrap=True \n"
     ]
    },
    {
     "name": "stdout",
     "output_type": "stream",
     "text": [
      "[CV]  min_samples_split=10, min_samples_leaf=1, max_features=sqrt, max_depth=None, bootstrap=True, total=   3.5s\n",
      "[CV] min_samples_split=10, min_samples_leaf=1, max_features=sqrt, max_depth=None, bootstrap=True \n",
      "[CV]  min_samples_split=10, min_samples_leaf=1, max_features=sqrt, max_depth=None, bootstrap=True, total=   3.5s\n",
      "[CV] min_samples_split=10, min_samples_leaf=1, max_features=sqrt, max_depth=None, bootstrap=True \n",
      "[CV]  min_samples_split=10, min_samples_leaf=1, max_features=sqrt, max_depth=None, bootstrap=True, total=   3.4s\n",
      "[CV] min_samples_split=10, min_samples_leaf=1, max_features=sqrt, max_depth=None, bootstrap=True \n",
      "[CV]  min_samples_split=10, min_samples_leaf=1, max_features=sqrt, max_depth=None, bootstrap=True, total=   3.5s\n",
      "[CV] min_samples_split=5, min_samples_leaf=2, max_features=auto, max_depth=None, bootstrap=True \n",
      "[CV]  min_samples_split=5, min_samples_leaf=2, max_features=auto, max_depth=None, bootstrap=True, total=   6.3s\n",
      "[CV] min_samples_split=5, min_samples_leaf=2, max_features=auto, max_depth=None, bootstrap=True \n",
      "[CV]  min_samples_split=5, min_samples_leaf=2, max_features=auto, max_depth=None, bootstrap=True, total=   6.3s\n",
      "[CV] min_samples_split=5, min_samples_leaf=2, max_features=auto, max_depth=None, bootstrap=True \n",
      "[CV]  min_samples_split=5, min_samples_leaf=2, max_features=auto, max_depth=None, bootstrap=True, total=   6.3s\n",
      "[CV] min_samples_split=5, min_samples_leaf=2, max_features=auto, max_depth=None, bootstrap=True \n",
      "[CV]  min_samples_split=5, min_samples_leaf=2, max_features=auto, max_depth=None, bootstrap=True, total=   6.2s\n",
      "[CV] min_samples_split=5, min_samples_leaf=2, max_features=auto, max_depth=None, bootstrap=True \n"
     ]
    },
    {
     "name": "stderr",
     "output_type": "stream",
     "text": [
      "[Parallel(n_jobs=1)]: Done  50 out of  50 | elapsed:  3.8min finished\n"
     ]
    },
    {
     "name": "stdout",
     "output_type": "stream",
     "text": [
      "[CV]  min_samples_split=5, min_samples_leaf=2, max_features=auto, max_depth=None, bootstrap=True, total=   6.2s\n"
     ]
    },
    {
     "data": {
      "text/plain": [
       "RandomizedSearchCV(estimator=RandomForestRegressor(n_estimators=1000,\n",
       "                                                   random_state=40),\n",
       "                   param_distributions={'bootstrap': [True, False],\n",
       "                                        'max_depth': [1, 2, 3, 4, None],\n",
       "                                        'max_features': ['auto', 'sqrt'],\n",
       "                                        'min_samples_leaf': [1, 2, 4],\n",
       "                                        'min_samples_split': [2, 3, 5, 10]},\n",
       "                   random_state=40, verbose=2)"
      ]
     },
     "execution_count": 41,
     "metadata": {},
     "output_type": "execute_result"
    }
   ],
   "source": [
    "rf_random = RandomizedSearchCV(estimator = rf, param_distributions = random_grid, n_iter = 10, verbose=2, random_state=40)\n",
    "# Fit the random search model\n",
    "rf_random.fit(X_train, y_train)"
   ]
  },
  {
   "cell_type": "code",
   "execution_count": 42,
   "metadata": {},
   "outputs": [
    {
     "data": {
      "text/plain": [
       "0.8817888073756693"
      ]
     },
     "metadata": {},
     "output_type": "display_data"
    }
   ],
   "source": [
    "display(rf_random.score(X_train, y_train))"
   ]
  },
  {
   "cell_type": "code",
   "execution_count": 43,
   "metadata": {},
   "outputs": [
    {
     "data": {
      "text/plain": [
       "0.8615250884422276"
      ]
     },
     "metadata": {},
     "output_type": "display_data"
    }
   ],
   "source": [
    "display(rf_random.score(X_valid, y_valid))"
   ]
  },
  {
   "cell_type": "code",
   "execution_count": 44,
   "metadata": {},
   "outputs": [
    {
     "data": {
      "text/plain": [
       "0.8950916092863456"
      ]
     },
     "metadata": {},
     "output_type": "display_data"
    }
   ],
   "source": [
    "display(rf_random.score(X_test, y_test))"
   ]
  },
  {
   "cell_type": "markdown",
   "metadata": {},
   "source": [
    "Не то чтобы прям и лучше (возможно, ограниченность параметров дала о себе знать)"
   ]
  },
  {
   "cell_type": "code",
   "execution_count": null,
   "metadata": {},
   "outputs": [],
   "source": []
  }
 ],
 "metadata": {
  "kernelspec": {
   "display_name": "Python 3",
   "language": "python",
   "name": "python3"
  },
  "language_info": {
   "codemirror_mode": {
    "name": "ipython",
    "version": 3
   },
   "file_extension": ".py",
   "mimetype": "text/x-python",
   "name": "python",
   "nbconvert_exporter": "python",
   "pygments_lexer": "ipython3",
   "version": "3.8.3"
  }
 },
 "nbformat": 4,
 "nbformat_minor": 2
}
